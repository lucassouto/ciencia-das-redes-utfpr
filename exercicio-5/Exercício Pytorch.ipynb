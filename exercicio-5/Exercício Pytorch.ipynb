{
 "cells": [
  {
   "cell_type": "markdown",
   "metadata": {},
   "source": [
    "## Exercício sobre pytorch"
   ]
  },
  {
   "cell_type": "markdown",
   "metadata": {},
   "source": [
    "Utilize o dataset 'datasetCarros.csv'.<br>\n",
    "Usando Pytorch, construa uma rede neural para prever a feature 'PrecoVenda'.<br>\n",
    "\n",
    "Use uma rede neural feed forward com duas camadas escondidas, com 50 neurônios cada.<br>\n",
    "Use o critério de perda MSELoss, otimizador Adam e learning rate = 0.001. Considere 10000 épocas."
   ]
  },
  {
   "cell_type": "code",
   "execution_count": 57,
   "outputs": [
    {
     "name": "stdout",
     "output_type": "stream",
     "text": [
      "[1000] loss: 0.002\n",
      "[2000] loss: 0.002\n",
      "[3000] loss: 0.001\n",
      "[4000] loss: 0.001\n",
      "[5000] loss: 0.001\n",
      "[6000] loss: 0.001\n",
      "[7000] loss: 0.001\n",
      "[8000] loss: 0.001\n",
      "[9000] loss: 0.001\n",
      "[10000] loss: 0.001\n",
      "Finished Training\n",
      "0\n"
     ]
    }
   ],
   "source": [
    "import pandas as pd\n",
    "import torch\n",
    "import torch.nn as nn\n",
    "import torch.optim as optim\n",
    "from torch.nn import functional as F\n",
    "from torch.utils.data import Dataset, DataLoader\n",
    "\n",
    "# Define a classe da rede neural\n",
    "class Net(nn.Module):\n",
    "    def __init__(self, input_size, hidden_size, output_size):\n",
    "        super(Net, self).__init__()\n",
    "        self.fc1 = nn.Linear(input_size, hidden_size)\n",
    "        self.fc2 = nn.Linear(hidden_size, hidden_size)\n",
    "        self.fc3 = nn.Linear(hidden_size, output_size)\n",
    "\n",
    "    def forward(self, x):\n",
    "        x = F.relu(self.fc1(x))\n",
    "        x = F.relu(self.fc2(x))\n",
    "        x = self.fc3(x)\n",
    "        return x\n",
    "\n",
    "# Carregando o conjunto de dados\n",
    "df = pd.read_csv('datasetCarros.csv', dtype={\n",
    "    'Nome': str,\n",
    "    'Ano': int,\n",
    "    'PrecoVenda': float,\n",
    "    'PrecoAtual': float,\n",
    "    'KmRodado': int,\n",
    "    'TipoCombustivel': str,\n",
    "    'Trasmissao': str,\n",
    "    'Owner': int\n",
    "})\n",
    "# remove colunas string\n",
    "df = df.drop(columns=['Nome', 'TipoCombustivel', 'Trasmissao'])\n",
    "\n",
    "# Separando as features e o target\n",
    "X = df.drop('PrecoVenda', axis=1).values\n",
    "y = df['PrecoVenda'].values\n",
    "\n",
    "# Normalizando as features\n",
    "X_mean = X.mean(axis=0)\n",
    "X_std = X.std(axis=0)\n",
    "\n",
    "X = (X - X_mean) / X_std\n",
    "\n",
    "# Convertendo os dados para tensores PyTorch\n",
    "X_tensor = torch.tensor(X, dtype=torch.float32)\n",
    "y_tensor = torch.tensor(y, dtype=torch.float32)\n",
    "y_tensor = y_tensor.unsqueeze(1)\n",
    "\n",
    "# Definindo uma classe Dataset personalizada\n",
    "class CustomDataset(Dataset):\n",
    "    def __init__(self, X, y):\n",
    "        self.X = X\n",
    "        self.y = y\n",
    "\n",
    "    def __getitem__(self, index):\n",
    "        return self.X[index], self.y[index]\n",
    "\n",
    "    def __len__(self):\n",
    "        return len(self.X)\n",
    "\n",
    "# Criando os DataLoaders para o conjunto de treinamento e teste\n",
    "dataset = CustomDataset(X_tensor, y_tensor)\n",
    "\n",
    "train_size = int(0.8 * len(dataset))\n",
    "test_size = len(dataset) - train_size\n",
    "\n",
    "train_dataset, test_dataset = torch.utils.data.random_split(dataset, [train_size, test_size])\n",
    "\n",
    "train_loader = DataLoader(train_dataset, batch_size=64, shuffle=True)\n",
    "test_loader = DataLoader(test_dataset, batch_size=64, shuffle=True)\n",
    "\n",
    "# Instanciando a rede neural, o critério de perda e o otimizador\n",
    "net = Net(input_size=4, hidden_size=50, output_size=1)\n",
    "criterion = nn.MSELoss()\n",
    "optimizer = optim.Adam(net.parameters(), lr=0.001)\n",
    "\n",
    "# Treinamento da rede neural\n",
    "for epoch in range(10000):\n",
    "    running_loss = 0.0\n",
    "    for data in train_loader:\n",
    "        inputs, labels = data\n",
    "\n",
    "        optimizer.zero_grad()\n",
    "\n",
    "        outputs = net(inputs)\n",
    "        loss = criterion(outputs, labels)\n",
    "\n",
    "        loss.backward()\n",
    "        optimizer.step()\n",
    "\n",
    "        running_loss += loss.item()\n",
    "\n",
    "    if epoch % 1000 == 999:\n",
    "        print(f'[{epoch + 1}] loss: {running_loss / 1000:.3f}')\n",
    "        running_loss = 0.0\n",
    "\n",
    "print('Finished Training')\n",
    "\n",
    "# Teste da rede neural\n",
    "with torch.no_grad():\n",
    "    total_loss = 0\n",
    "    for inputs, labels in test_loader:\n",
    "        outputs = net(inputs)\n",
    "        loss = criterion(outputs, labels)\n",
    "        print(total_loss)\n"
   ],
   "metadata": {
    "collapsed": false,
    "ExecuteTime": {
     "start_time": "2023-05-05T18:51:45.682756Z",
     "end_time": "2023-05-05T18:52:06.117085Z"
    }
   }
  },
  {
   "cell_type": "code",
   "execution_count": 55,
   "outputs": [],
   "source": [],
   "metadata": {
    "collapsed": false,
    "ExecuteTime": {
     "start_time": "2023-05-05T18:47:13.858373Z",
     "end_time": "2023-05-05T18:47:13.894676Z"
    }
   }
  },
  {
   "cell_type": "code",
   "execution_count": null,
   "outputs": [],
   "source": [],
   "metadata": {
    "collapsed": false
   }
  }
 ],
 "metadata": {
  "kernelspec": {
   "name": "python3",
   "language": "python",
   "display_name": "Python 3 (ipykernel)"
  },
  "language_info": {
   "codemirror_mode": {
    "name": "ipython",
    "version": 3
   },
   "file_extension": ".py",
   "mimetype": "text/x-python",
   "name": "python",
   "nbconvert_exporter": "python",
   "pygments_lexer": "ipython3",
   "version": "3.8.3"
  }
 },
 "nbformat": 4,
 "nbformat_minor": 4
}
