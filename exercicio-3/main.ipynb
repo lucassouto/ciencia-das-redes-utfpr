{
 "cells": [
  {
   "cell_type": "markdown",
   "source": [
    "# Exercício 3"
   ],
   "metadata": {
    "collapsed": false
   }
  },
  {
   "cell_type": "markdown",
   "source": [
    "## Questão 1"
   ],
   "metadata": {
    "collapsed": false
   }
  },
  {
   "cell_type": "code",
   "execution_count": 11,
   "outputs": [],
   "source": [
    "import networkx"
   ],
   "metadata": {
    "collapsed": false
   }
  },
  {
   "cell_type": "markdown",
   "source": [
    "### a"
   ],
   "metadata": {
    "collapsed": false
   }
  },
  {
   "cell_type": "code",
   "execution_count": 12,
   "metadata": {
    "collapsed": true
   },
   "outputs": [
    {
     "name": "stdout",
     "output_type": "stream",
     "text": [
      "1º - Centralidade de Grau: 0.050721469173589856 - Nome: Gaucho Parrilla Argentina - Categorias: {'longitude': -79.987573, 'latitude': 40.449043, 'categories': '221,64,1,83', 'stars': '4.5', 'reviewCount': '1618'}\n",
      "2º - Centralidade de Grau: 0.04897245299519021 - Nome: Condado Tacos - Categorias: {'longitude': -79.9955165, 'latitude': 40.4438683, 'categories': '1,393,275,208,58,651', 'stars': '4.0', 'reviewCount': '510'}\n",
      "3º - Centralidade de Grau: 0.04634892872759073 - Nome: Noodlehead - Categorias: {'longitude': -79.925494, 'latitude': 40.457748, 'categories': '370,1,620,641', 'stars': '4.5', 'reviewCount': '1096'}\n",
      "4º - Centralidade de Grau: 0.04459991254919108 - Nome: täkō - Categorias: {'longitude': -80.0019846969, 'latitude': 40.4422285653, 'categories': '1,420,651', 'stars': '4.5', 'reviewCount': '1133'}\n",
      "5º - Centralidade de Grau: 0.04175776125929165 - Nome: Bakersfield - Categorias: {'longitude': -79.996632, 'latitude': 40.444065, 'categories': '58,275,393,208,420,83,651,1', 'stars': '4.5', 'reviewCount': '655'}\n",
      "6º - Centralidade de Grau: 0.040008745080892 - Nome: Smallman Galley - Categorias: {'longitude': -79.9837408, 'latitude': 40.4521777, 'categories': '275,604,420,173,1,58,641', 'stars': '4.5', 'reviewCount': '476'}\n",
      "7º - Centralidade de Grau: 0.03738522081329253 - Nome: Meat & Potatoes - Categorias: {'longitude': -80.0011037908, 'latitude': 40.4431445863, 'categories': '428,641,262,490,420,1,188', 'stars': '4.0', 'reviewCount': '1755'}\n",
      "8º - Centralidade de Grau: 0.03694796676869261 - Nome: DiAnoia's Eatery - Categorias: {'longitude': -79.9786993, 'latitude': 40.454949, 'categories': '1,287,289,405', 'stars': '4.5', 'reviewCount': '433'}\n",
      "9º - Centralidade de Grau: 0.034324442501093136 - Nome: Piada Italian Street Food - Categorias: {'longitude': -79.957918, 'latitude': 40.440536, 'categories': '741,1,405,46', 'stars': '4.0', 'reviewCount': '193'}\n",
      "10º - Centralidade de Grau: 0.028858766943594228 - Nome: Banh Mi & Ti - Categorias: {'longitude': -79.958936443, 'latitude': 40.4721452731, 'categories': '1,362,857,204,641', 'stars': '4.5', 'reviewCount': '219'}\n",
      "11º - Centralidade de Grau: 0.028421512898994316 - Nome: Pork & Beans - Categorias: {'longitude': -80.0024601607, 'latitude': 40.4430332883, 'categories': '604,1,208,612,58,275,437,706,133,641,289,613,330', 'stars': '4.0', 'reviewCount': '365'}\n",
      "12º - Centralidade de Grau: 0.027984258854394404 - Nome: Social House Seven - Categorias: {'longitude': -80.0003438, 'latitude': 40.4440719, 'categories': '1,861,791,870,550', 'stars': '3.5', 'reviewCount': '256'}\n",
      "13º - Centralidade de Grau: 0.027547004809794492 - Nome: Millie's Homemade Ice Cream - Categorias: {'longitude': -79.9253581, 'latitude': 40.4578745, 'categories': '1,289,641,653', 'stars': '4.5', 'reviewCount': '310'}\n",
      "14º - Centralidade de Grau: 0.026672496720594668 - Nome: Southern Tier Brewery Pittsburgh - Categorias: {'longitude': -80.0104128, 'latitude': 40.4463787, 'categories': '58,201,1,100,275,641,188', 'stars': '4.0', 'reviewCount': '231'}\n",
      "15º - Centralidade de Grau: 0.025360734586794928 - Nome: City Works - Pittsburgh - Categorias: {'longitude': -80.0032706, 'latitude': 40.4404255, 'categories': '420,100,612,604,1,58,341,275', 'stars': '3.0', 'reviewCount': '238'}\n",
      "16º - Centralidade de Grau: 0.024267599475295148 - Nome: The Porch at Schenley - Categorias: {'longitude': -79.953151, 'latitude': 40.442777, 'categories': '1,602,289,82,248,420', 'stars': '3.5', 'reviewCount': '585'}\n",
      "17º - Centralidade de Grau: 0.024048972452995192 - Nome: Altius - Categorias: {'longitude': -80.019299, 'latitude': 40.438556, 'categories': '133,641,1,275,5,58,420,575', 'stars': '4.5', 'reviewCount': '492'}\n",
      "18º - Centralidade de Grau: 0.02361171840839528 - Nome: The Abbey on Butler Street - Categorias: {'longitude': -79.9584034, 'latitude': 40.4738128, 'categories': '275,420,362,641,1,58,173', 'stars': '3.5', 'reviewCount': '268'}\n",
      "19º - Centralidade de Grau: 0.022955837341495408 - Nome: Muddy Waters Oyster Bar - Categorias: {'longitude': -79.925226, 'latitude': 40.4602070145, 'categories': '208,275,58,354,1,83', 'stars': '4.5', 'reviewCount': '385'}\n",
      "20º - Centralidade de Grau: 0.022518583296895496 - Nome: Burgh'ers Brewing - Categorias: {'longitude': -79.965468, 'latitude': 40.465629, 'categories': '248,420,133,641,289,1,741,706,127,201', 'stars': '4.0', 'reviewCount': '145'}\n",
      "21º - Centralidade de Grau: 0.02229995627459554 - Nome: Mindful Brewing Company - Categorias: {'longitude': -80.0226204, 'latitude': 40.3641474, 'categories': '641,201,696', 'stars': '3.5', 'reviewCount': '201'}\n",
      "22º - Centralidade de Grau: 0.02229995627459554 - Nome: Pirata - Categorias: {'longitude': -80.0015466783, 'latitude': 40.4402384503, 'categories': '289,208,817,58,275,1', 'stars': '4.0', 'reviewCount': '214'}\n",
      "23º - Centralidade de Grau: 0.022081329252295584 - Nome: Primanti Bros - Categorias: {'longitude': -79.9855880737, 'latitude': 40.4507064819, 'categories': '289,1,618,341,275,501,58,420', 'stars': '3.5', 'reviewCount': '1234'}\n",
      "24º - Centralidade de Grau: 0.021862702229995628 - Nome: Proper Brick Oven & Tap Room - Categorias: {'longitude': -80.0003448, 'latitude': 40.4435995, 'categories': '405,641,696,58,1,82,275', 'stars': '4.5', 'reviewCount': '569'}\n",
      "25º - Centralidade de Grau: 0.021644075207695672 - Nome: Butcher and the Rye - Categorias: {'longitude': -80.002066, 'latitude': 40.442334, 'categories': '694,275,420,208,58,641,1', 'stars': '4.5', 'reviewCount': '809'}\n",
      "26º - Centralidade de Grau: 0.020988194140795804 - Nome: Church Brew Works - Categorias: {'longitude': -79.96445, 'latitude': 40.462118, 'categories': '275,1,58,201,604,575,641', 'stars': '3.5', 'reviewCount': '1023'}\n",
      "27º - Centralidade de Grau: 0.020988194140795804 - Nome: Totopo Mexican Kitchen and Bar - Categorias: {'longitude': -80.0445051302, 'latitude': 40.380953115, 'categories': '275,1,64,58,651', 'stars': '4.5', 'reviewCount': '300'}\n",
      "28º - Centralidade de Grau: 0.020769567118495848 - Nome: Ki Ramen - Categorias: {'longitude': -79.9598728, 'latitude': 40.4716602, 'categories': '1,620,661,870,275,58', 'stars': '3.5', 'reviewCount': '168'}\n",
      "29º - Centralidade de Grau: 0.020113686051595976 - Nome: Deluca's Diner - Categorias: {'longitude': -79.9837258, 'latitude': 40.4515431, 'categories': '162,594,604,1', 'stars': '4.0', 'reviewCount': '547'}\n",
      "30º - Centralidade de Grau: 0.019676432006996064 - Nome: Redhawk Coffee - Categorias: {'longitude': -79.9586246, 'latitude': 40.4407077, 'categories': '1,162,344,173,575,641', 'stars': '5.0', 'reviewCount': '123'}\n",
      "31º - Centralidade de Grau: 0.01880192391779624 - Nome: Everyday Noodles - Categorias: {'longitude': -79.920082, 'latitude': 40.438262, 'categories': '631,620,791,1', 'stars': '4.0', 'reviewCount': '598'}\n",
      "32º - Centralidade de Grau: 0.018583296895496284 - Nome: Hofbrauhaus Pittsburgh - Categorias: {'longitude': -79.964499, 'latitude': 40.428768, 'categories': '641,275,100,829,1,201,855,58', 'stars': '4.0', 'reviewCount': '683'}\n",
      "33º - Centralidade de Grau: 0.018364669873196328 - Nome: Smoke BBQ Taqueria - Categorias: {'longitude': -79.9611342, 'latitude': 40.4700107, 'categories': '1,613,248,651,393', 'stars': '3.5', 'reviewCount': '405'}\n",
      "34º - Centralidade de Grau: 0.018364669873196328 - Nome: Primanti Bros - Categorias: {'longitude': -80.002585, 'latitude': 40.440287, 'categories': '289,275,58,1,341,306,420', 'stars': '3.5', 'reviewCount': '690'}\n",
      "35º - Centralidade de Grau: 0.018364669873196328 - Nome: B52 Cafe - Categorias: {'longitude': -79.9541429, 'latitude': 40.4804345, 'categories': '496,158,636,173,162,641,362,1', 'stars': '4.5', 'reviewCount': '198'}\n",
      "36º - Centralidade de Grau: 0.018146042850896372 - Nome: Naturoll Creamery - Categorias: {'longitude': -79.9599277368, 'latitude': 40.4710728417, 'categories': '653,575,641,262,414', 'stars': '4.0', 'reviewCount': '149'}\n",
      "37º - Centralidade de Grau: 0.018146042850896372 - Nome: Sienna Mercato - Categorias: {'longitude': -79.9964366, 'latitude': 40.4439496, 'categories': '208,405,420,58,275,82,1', 'stars': '4.0', 'reviewCount': '752'}\n",
      "38º - Centralidade de Grau: 0.018146042850896372 - Nome: Istanbul Sofra - Categorias: {'longitude': -79.897459209, 'latitude': 40.4395831126, 'categories': '891,447,79,1,158,189,641', 'stars': '4.5', 'reviewCount': '328'}\n",
      "39º - Centralidade de Grau: 0.017927415828596416 - Nome: The Milk Shake Factory - Categorias: {'longitude': -79.9999508, 'latitude': 40.4404289, 'categories': '641,653,838,575,262', 'stars': '4.5', 'reviewCount': '184'}\n",
      "40º - Centralidade de Grau: 0.01770878880629646 - Nome: Senyai Thai Kitchen - Categorias: {'longitude': -79.9288277, 'latitude': 40.4576253, 'categories': '1,620,631,370,83', 'stars': '4.5', 'reviewCount': '146'}\n",
      "41º - Centralidade de Grau: 0.01770878880629646 - Nome: Eleven - Categorias: {'longitude': -79.99315, 'latitude': 40.446156, 'categories': '1,420', 'stars': '4.0', 'reviewCount': '639'}\n",
      "42º - Centralidade de Grau: 0.017271534761696548 - Nome: Kaya - Categorias: {'longitude': -79.9844699, 'latitude': 40.4516553, 'categories': '1,58,275,64,817', 'stars': '4.0', 'reviewCount': '633'}\n",
      "43º - Centralidade de Grau: 0.016834280717096632 - Nome: Fat Heads Saloon - Categorias: {'longitude': -79.9801756, 'latitude': 40.4289667, 'categories': '1,275,604,58', 'stars': '4.0', 'reviewCount': '715'}\n",
      "44º - Centralidade de Grau: 0.016834280717096632 - Nome: Tres Rios - Categorias: {'longitude': -79.981051866, 'latitude': 40.4288635668, 'categories': '208,275,1,651,58', 'stars': '4.0', 'reviewCount': '138'}\n",
      "45º - Centralidade de Grau: 0.016834280717096632 - Nome: Umami - Categorias: {'longitude': -79.9642252, 'latitude': 40.4666498, 'categories': '1,550,58,870,275', 'stars': '4.0', 'reviewCount': '221'}\n",
      "46º - Centralidade de Grau: 0.016834280717096632 - Nome: Pittsburgh Poke - Categorias: {'longitude': -80.003478, 'latitude': 40.441237, 'categories': '370,844,870,641,1,550', 'stars': '4.5', 'reviewCount': '110'}\n",
      "47º - Centralidade de Grau: 0.016834280717096632 - Nome: Ten Penny - Categorias: {'longitude': -79.9956094, 'latitude': 40.4444316, 'categories': '1,420,604', 'stars': '3.0', 'reviewCount': '477'}\n",
      "48º - Centralidade de Grau: 0.016615653694796676 - Nome: Coca Cafe - Categorias: {'longitude': -79.9642028, 'latitude': 40.4672287, 'categories': '162,641,1,370,173,420', 'stars': '3.5', 'reviewCount': '474'}\n",
      "49º - Centralidade de Grau: 0.016615653694796676 - Nome: Mount Everest Sushi - Categorias: {'longitude': -79.957276, 'latitude': 40.4415916, 'categories': '550,1,870,217,641,844,861', 'stars': '4.5', 'reviewCount': '166'}\n",
      "50º - Centralidade de Grau: 0.016615653694796676 - Nome: The Urban Tap - Categorias: {'longitude': -79.9254572, 'latitude': 40.4583886, 'categories': '420,602,741,188,1,604,289', 'stars': '3.5', 'reviewCount': '131'}\n"
     ]
    }
   ],
   "source": [
    "graph = networkx.read_gml(\"GraphMissingEdges.gml\")\n",
    "\n",
    "node_degree_centralities = sorted(networkx.degree_centrality(graph).items(), key=lambda item: item[1], reverse=True)\n",
    "\n",
    "for index, (node_name, degree_centrality) in enumerate(node_degree_centralities):\n",
    "    location_name = graph.nodes[node_name][\"name\"]\n",
    "    node_attrs = graph.nodes[node_name]\n",
    "    node_attrs.pop(\"name\")\n",
    "    print(f\"{index+1}º - Centralidade de Grau: {degree_centrality} - Nome: {location_name} - Categorias: {node_attrs}\")\n",
    "\n",
    "    # Mostra somente os 50 primeiros\n",
    "    if index == 49:\n",
    "        break\n"
   ]
  },
  {
   "cell_type": "markdown",
   "source": [
    "### b"
   ],
   "metadata": {
    "collapsed": false
   }
  },
  {
   "cell_type": "code",
   "execution_count": 13,
   "outputs": [
    {
     "name": "stdout",
     "output_type": "stream",
     "text": [
      "1º - Centralidade de Intermediação: 0.03831476818769258 - Nome: Gaucho Parrilla Argentina - Categorias: {'longitude': -79.987573, 'latitude': 40.449043, 'categories': '221,64,1,83', 'stars': '4.5', 'reviewCount': '1618'}\n",
      "2º - Centralidade de Intermediação: 0.03497635736098004 - Nome: Condado Tacos - Categorias: {'longitude': -79.9955165, 'latitude': 40.4438683, 'categories': '1,393,275,208,58,651', 'stars': '4.0', 'reviewCount': '510'}\n",
      "3º - Centralidade de Intermediação: 0.031020182749383823 - Nome: Noodlehead - Categorias: {'longitude': -79.925494, 'latitude': 40.457748, 'categories': '370,1,620,641', 'stars': '4.5', 'reviewCount': '1096'}\n",
      "4º - Centralidade de Intermediação: 0.030039107496056698 - Nome: täkō - Categorias: {'longitude': -80.0019846969, 'latitude': 40.4422285653, 'categories': '1,420,651', 'stars': '4.5', 'reviewCount': '1133'}\n",
      "5º - Centralidade de Intermediação: 0.028527549889386276 - Nome: Bakersfield - Categorias: {'longitude': -79.996632, 'latitude': 40.444065, 'categories': '58,275,393,208,420,83,651,1', 'stars': '4.5', 'reviewCount': '655'}\n",
      "6º - Centralidade de Intermediação: 0.024649600640238006 - Nome: Smallman Galley - Categorias: {'longitude': -79.9837408, 'latitude': 40.4521777, 'categories': '275,604,420,173,1,58,641', 'stars': '4.5', 'reviewCount': '476'}\n",
      "7º - Centralidade de Intermediação: 0.02246955292840512 - Nome: Meat & Potatoes - Categorias: {'longitude': -80.0011037908, 'latitude': 40.4431445863, 'categories': '428,641,262,490,420,1,188', 'stars': '4.0', 'reviewCount': '1755'}\n",
      "8º - Centralidade de Intermediação: 0.020927805660861522 - Nome: DiAnoia's Eatery - Categorias: {'longitude': -79.9786993, 'latitude': 40.454949, 'categories': '1,287,289,405', 'stars': '4.5', 'reviewCount': '433'}\n",
      "9º - Centralidade de Intermediação: 0.017681677144784098 - Nome: Piada Italian Street Food - Categorias: {'longitude': -79.957918, 'latitude': 40.440536, 'categories': '741,1,405,46', 'stars': '4.0', 'reviewCount': '193'}\n",
      "10º - Centralidade de Intermediação: 0.014176254796523331 - Nome: City Works - Pittsburgh - Categorias: {'longitude': -80.0032706, 'latitude': 40.4404255, 'categories': '420,100,612,604,1,58,341,275', 'stars': '3.0', 'reviewCount': '238'}\n",
      "11º - Centralidade de Intermediação: 0.014017679656025113 - Nome: Banh Mi & Ti - Categorias: {'longitude': -79.958936443, 'latitude': 40.4721452731, 'categories': '1,362,857,204,641', 'stars': '4.5', 'reviewCount': '219'}\n",
      "12º - Centralidade de Intermediação: 0.013980383847038607 - Nome: Pork & Beans - Categorias: {'longitude': -80.0024601607, 'latitude': 40.4430332883, 'categories': '604,1,208,612,58,275,437,706,133,641,289,613,330', 'stars': '4.0', 'reviewCount': '365'}\n",
      "13º - Centralidade de Intermediação: 0.013117131217645933 - Nome: Southern Tier Brewery Pittsburgh - Categorias: {'longitude': -80.0104128, 'latitude': 40.4463787, 'categories': '58,201,1,100,275,641,188', 'stars': '4.0', 'reviewCount': '231'}\n",
      "14º - Centralidade de Intermediação: 0.012841649260082352 - Nome: Social House Seven - Categorias: {'longitude': -80.0003438, 'latitude': 40.4440719, 'categories': '1,861,791,870,550', 'stars': '3.5', 'reviewCount': '256'}\n",
      "15º - Centralidade de Intermediação: 0.012117174470931379 - Nome: Mindful Brewing Company - Categorias: {'longitude': -80.0226204, 'latitude': 40.3641474, 'categories': '641,201,696', 'stars': '3.5', 'reviewCount': '201'}\n",
      "16º - Centralidade de Intermediação: 0.01177497110876863 - Nome: Millie's Homemade Ice Cream - Categorias: {'longitude': -79.9253581, 'latitude': 40.4578745, 'categories': '1,289,641,653', 'stars': '4.5', 'reviewCount': '310'}\n",
      "17º - Centralidade de Intermediação: 0.0105944651083432 - Nome: The Abbey on Butler Street - Categorias: {'longitude': -79.9584034, 'latitude': 40.4738128, 'categories': '275,420,362,641,1,58,173', 'stars': '3.5', 'reviewCount': '268'}\n",
      "18º - Centralidade de Intermediação: 0.010533067455113182 - Nome: The Porch at Schenley - Categorias: {'longitude': -79.953151, 'latitude': 40.442777, 'categories': '1,602,289,82,248,420', 'stars': '3.5', 'reviewCount': '585'}\n",
      "19º - Centralidade de Intermediação: 0.010202102075161907 - Nome: Totopo Mexican Kitchen and Bar - Categorias: {'longitude': -80.0445051302, 'latitude': 40.380953115, 'categories': '275,1,64,58,651', 'stars': '4.5', 'reviewCount': '300'}\n",
      "20º - Centralidade de Intermediação: 0.010028977954309303 - Nome: Burgh'ers Brewing - Categorias: {'longitude': -79.965468, 'latitude': 40.465629, 'categories': '248,420,133,641,289,1,741,706,127,201', 'stars': '4.0', 'reviewCount': '145'}\n",
      "21º - Centralidade de Intermediação: 0.009660654463966398 - Nome: Altius - Categorias: {'longitude': -80.019299, 'latitude': 40.438556, 'categories': '133,641,1,275,5,58,420,575', 'stars': '4.5', 'reviewCount': '492'}\n",
      "22º - Centralidade de Intermediação: 0.009650370461544242 - Nome: Ki Ramen - Categorias: {'longitude': -79.9598728, 'latitude': 40.4716602, 'categories': '1,620,661,870,275,58', 'stars': '3.5', 'reviewCount': '168'}\n",
      "23º - Centralidade de Intermediação: 0.009515597959973416 - Nome: Pirata - Categorias: {'longitude': -80.0015466783, 'latitude': 40.4402384503, 'categories': '289,208,817,58,275,1', 'stars': '4.0', 'reviewCount': '214'}\n",
      "24º - Centralidade de Intermediação: 0.009272353379603415 - Nome: Proper Brick Oven & Tap Room - Categorias: {'longitude': -80.0003448, 'latitude': 40.4435995, 'categories': '405,641,696,58,1,82,275', 'stars': '4.5', 'reviewCount': '569'}\n",
      "25º - Centralidade de Intermediação: 0.00920070286246742 - Nome: Primanti Bros - Categorias: {'longitude': -79.9855880737, 'latitude': 40.4507064819, 'categories': '289,1,618,341,275,501,58,420', 'stars': '3.5', 'reviewCount': '1234'}\n",
      "26º - Centralidade de Intermediação: 0.00858762974869714 - Nome: Muddy Waters Oyster Bar - Categorias: {'longitude': -79.925226, 'latitude': 40.4602070145, 'categories': '208,275,58,354,1,83', 'stars': '4.5', 'reviewCount': '385'}\n",
      "27º - Centralidade de Intermediação: 0.008208112514518773 - Nome: Smoke BBQ Taqueria - Categorias: {'longitude': -79.9611342, 'latitude': 40.4700107, 'categories': '1,613,248,651,393', 'stars': '3.5', 'reviewCount': '405'}\n",
      "28º - Centralidade de Intermediação: 0.007938229467505454 - Nome: Butcher and the Rye - Categorias: {'longitude': -80.002066, 'latitude': 40.442334, 'categories': '694,275,420,208,58,641,1', 'stars': '4.5', 'reviewCount': '809'}\n",
      "29º - Centralidade de Intermediação: 0.007788981684635889 - Nome: Church Brew Works - Categorias: {'longitude': -79.96445, 'latitude': 40.462118, 'categories': '275,1,58,201,604,575,641', 'stars': '3.5', 'reviewCount': '1023'}\n",
      "30º - Centralidade de Intermediação: 0.007344171183672229 - Nome: Everyday Noodles - Categorias: {'longitude': -79.920082, 'latitude': 40.438262, 'categories': '631,620,791,1', 'stars': '4.0', 'reviewCount': '598'}\n",
      "31º - Centralidade de Intermediação: 0.007136877715817585 - Nome: Naturoll Creamery - Categorias: {'longitude': -79.9599277368, 'latitude': 40.4710728417, 'categories': '653,575,641,262,414', 'stars': '4.0', 'reviewCount': '149'}\n",
      "32º - Centralidade de Intermediação: 0.007110053538962454 - Nome: B52 Cafe - Categorias: {'longitude': -79.9541429, 'latitude': 40.4804345, 'categories': '496,158,636,173,162,641,362,1', 'stars': '4.5', 'reviewCount': '198'}\n",
      "33º - Centralidade de Intermediação: 0.0070171334322083525 - Nome: Central Diner & Grille - Categorias: {'longitude': -80.1568110748, 'latitude': 40.4486993008, 'categories': '891,594,604,83,1', 'stars': '4.0', 'reviewCount': '489'}\n",
      "34º - Centralidade de Intermediação: 0.006832711151099599 - Nome: Primanti Bros - Categorias: {'longitude': -80.002585, 'latitude': 40.440287, 'categories': '289,275,58,1,341,306,420', 'stars': '3.5', 'reviewCount': '690'}\n",
      "35º - Centralidade de Intermediação: 0.006829692914843712 - Nome: Mount Everest Sushi - Categorias: {'longitude': -79.957276, 'latitude': 40.4415916, 'categories': '550,1,870,217,641,844,861', 'stars': '4.5', 'reviewCount': '166'}\n",
      "36º - Centralidade de Intermediação: 0.006602159215868419 - Nome: Fat Heads Saloon - Categorias: {'longitude': -79.9801756, 'latitude': 40.4289667, 'categories': '1,275,604,58', 'stars': '4.0', 'reviewCount': '715'}\n",
      "37º - Centralidade de Intermediação: 0.006592339921926931 - Nome: Senyai Thai Kitchen - Categorias: {'longitude': -79.9288277, 'latitude': 40.4576253, 'categories': '1,620,631,370,83', 'stars': '4.5', 'reviewCount': '146'}\n",
      "38º - Centralidade de Intermediação: 0.0064989839079156635 - Nome: Redhawk Coffee - Categorias: {'longitude': -79.9586246, 'latitude': 40.4407077, 'categories': '1,162,344,173,575,641', 'stars': '5.0', 'reviewCount': '123'}\n",
      "39º - Centralidade de Intermediação: 0.006398772332280343 - Nome: Hofbrauhaus Pittsburgh - Categorias: {'longitude': -79.964499, 'latitude': 40.428768, 'categories': '641,275,100,829,1,201,855,58', 'stars': '4.0', 'reviewCount': '683'}\n",
      "40º - Centralidade de Intermediação: 0.006354649098619648 - Nome: Sienna Mercato - Categorias: {'longitude': -79.9964366, 'latitude': 40.4439496, 'categories': '208,405,420,58,275,82,1', 'stars': '4.0', 'reviewCount': '752'}\n",
      "41º - Centralidade de Intermediação: 0.006343999182561123 - Nome: Coca Cafe - Categorias: {'longitude': -79.9642028, 'latitude': 40.4672287, 'categories': '162,641,1,370,173,420', 'stars': '3.5', 'reviewCount': '474'}\n",
      "42º - Centralidade de Intermediação: 0.006225860495430221 - Nome: Deluca's Diner - Categorias: {'longitude': -79.9837258, 'latitude': 40.4515431, 'categories': '162,594,604,1', 'stars': '4.0', 'reviewCount': '547'}\n",
      "43º - Centralidade de Intermediação: 0.006212516210440333 - Nome: Mineo's Pizza House - Categorias: {'longitude': -79.9232273, 'latitude': 40.4328604, 'categories': '653,82,575,1,405,641', 'stars': '3.5', 'reviewCount': '288'}\n",
      "44º - Centralidade de Intermediação: 0.006147771829679146 - Nome: Pittsburgh Poke - Categorias: {'longitude': -80.003478, 'latitude': 40.441237, 'categories': '370,844,870,641,1,550', 'stars': '4.5', 'reviewCount': '110'}\n",
      "45º - Centralidade de Intermediação: 0.0060987680566871386 - Nome: Istanbul Sofra - Categorias: {'longitude': -79.897459209, 'latitude': 40.4395831126, 'categories': '891,447,79,1,158,189,641', 'stars': '4.5', 'reviewCount': '328'}\n",
      "46º - Centralidade de Intermediação: 0.006032799999859968 - Nome: Kelly O's Diner - Categorias: {'longitude': -79.9812264, 'latitude': 40.4540188, 'categories': '162,1,594,604', 'stars': '4.0', 'reviewCount': '211'}\n",
      "47º - Centralidade de Intermediação: 0.00597512060471229 - Nome: Nicky's Thai Kitchen - Categorias: {'longitude': -79.998256, 'latitude': 40.443983, 'categories': '370,575,1,83,496,641', 'stars': '4.0', 'reviewCount': '614'}\n",
      "48º - Centralidade de Intermediação: 0.005749348949567221 - Nome: The Yard - Categorias: {'longitude': -80.0027028, 'latitude': 40.44144, 'categories': '420,58,1,188,275', 'stars': '3.5', 'reviewCount': '271'}\n",
      "49º - Centralidade de Intermediação: 0.005667580773900581 - Nome: Tres Rios - Categorias: {'longitude': -79.981051866, 'latitude': 40.4288635668, 'categories': '208,275,1,651,58', 'stars': '4.0', 'reviewCount': '138'}\n",
      "50º - Centralidade de Intermediação: 0.005625789251873097 - Nome: The Milk Shake Factory - Categorias: {'longitude': -79.9999508, 'latitude': 40.4404289, 'categories': '641,653,838,575,262', 'stars': '4.5', 'reviewCount': '184'}\n"
     ]
    }
   ],
   "source": [
    "graph = networkx.read_gml(\"GraphMissingEdges.gml\")\n",
    "\n",
    "node_betweenness_centralities = sorted(networkx.betweenness_centrality(graph).items(), key=lambda item: item[1], reverse=True)\n",
    "\n",
    "for index, (node_name, degree_centrality) in enumerate(node_betweenness_centralities):\n",
    "    location_name = graph.nodes[node_name][\"name\"]\n",
    "    node_attrs = graph.nodes[node_name]\n",
    "    node_attrs.pop(\"name\")\n",
    "    print(f\"{index+1}º - Centralidade de Intermediação: {degree_centrality} - Nome: {location_name} - Categorias: {node_attrs}\")\n",
    "\n",
    "    # Mostra somente os 50 primeiros\n",
    "    if index == 49:\n",
    "        break"
   ],
   "metadata": {
    "collapsed": false
   }
  },
  {
   "cell_type": "markdown",
   "source": [
    "### c"
   ],
   "metadata": {
    "collapsed": false
   }
  },
  {
   "cell_type": "code",
   "execution_count": 14,
   "outputs": [
    {
     "name": "stdout",
     "output_type": "stream",
     "text": [
      "1º - Centralidade de Proximidade: 0.3386633071802575 - Nome: Gaucho Parrilla Argentina - Categorias: {'longitude': -79.987573, 'latitude': 40.449043, 'categories': '221,64,1,83', 'stars': '4.5', 'reviewCount': '1618'}\n",
      "2º - Centralidade de Proximidade: 0.3366922122688829 - Nome: täkō - Categorias: {'longitude': -80.0019846969, 'latitude': 40.4422285653, 'categories': '1,420,651', 'stars': '4.5', 'reviewCount': '1133'}\n",
      "3º - Centralidade de Proximidade: 0.3361849274032173 - Nome: Condado Tacos - Categorias: {'longitude': -79.9955165, 'latitude': 40.4438683, 'categories': '1,393,275,208,58,651', 'stars': '4.0', 'reviewCount': '510'}\n",
      "4º - Centralidade de Proximidade: 0.3337425582725102 - Nome: Smallman Galley - Categorias: {'longitude': -79.9837408, 'latitude': 40.4521777, 'categories': '275,604,420,173,1,58,641', 'stars': '4.5', 'reviewCount': '476'}\n",
      "5º - Centralidade de Proximidade: 0.33370690582530665 - Nome: Bakersfield - Categorias: {'longitude': -79.996632, 'latitude': 40.444065, 'categories': '58,275,393,208,420,83,651,1', 'stars': '4.5', 'reviewCount': '655'}\n",
      "6º - Centralidade de Proximidade: 0.33228702748970274 - Nome: Noodlehead - Categorias: {'longitude': -79.925494, 'latitude': 40.457748, 'categories': '370,1,620,641', 'stars': '4.5', 'reviewCount': '1096'}\n",
      "7º - Centralidade de Proximidade: 0.3320045005240403 - Nome: Meat & Potatoes - Categorias: {'longitude': -80.0011037908, 'latitude': 40.4431445863, 'categories': '428,641,262,490,420,1,188', 'stars': '4.0', 'reviewCount': '1755'}\n",
      "8º - Centralidade de Proximidade: 0.33140572304590443 - Nome: DiAnoia's Eatery - Categorias: {'longitude': -79.9786993, 'latitude': 40.454949, 'categories': '1,287,289,405', 'stars': '4.5', 'reviewCount': '433'}\n",
      "9º - Centralidade de Proximidade: 0.3218452859499995 - Nome: Pork & Beans - Categorias: {'longitude': -80.0024601607, 'latitude': 40.4430332883, 'categories': '604,1,208,612,58,275,437,706,133,641,289,613,330', 'stars': '4.0', 'reviewCount': '365'}\n",
      "10º - Centralidade de Proximidade: 0.3211834613850191 - Nome: Piada Italian Street Food - Categorias: {'longitude': -79.957918, 'latitude': 40.440536, 'categories': '741,1,405,46', 'stars': '4.0', 'reviewCount': '193'}\n",
      "11º - Centralidade de Proximidade: 0.3195407472821906 - Nome: Southern Tier Brewery Pittsburgh - Categorias: {'longitude': -80.0104128, 'latitude': 40.4463787, 'categories': '58,201,1,100,275,641,188', 'stars': '4.0', 'reviewCount': '231'}\n",
      "12º - Centralidade de Proximidade: 0.3180118441851466 - Nome: Social House Seven - Categorias: {'longitude': -80.0003438, 'latitude': 40.4440719, 'categories': '1,861,791,870,550', 'stars': '3.5', 'reviewCount': '256'}\n",
      "13º - Centralidade de Proximidade: 0.3161771604686939 - Nome: Pirata - Categorias: {'longitude': -80.0015466783, 'latitude': 40.4402384503, 'categories': '289,208,817,58,275,1', 'stars': '4.0', 'reviewCount': '214'}\n",
      "14º - Centralidade de Proximidade: 0.3146802000030921 - Nome: Banh Mi & Ti - Categorias: {'longitude': -79.958936443, 'latitude': 40.4721452731, 'categories': '1,362,857,204,641', 'stars': '4.5', 'reviewCount': '219'}\n",
      "15º - Centralidade de Proximidade: 0.31449011833592017 - Nome: Altius - Categorias: {'longitude': -80.019299, 'latitude': 40.438556, 'categories': '133,641,1,275,5,58,420,575', 'stars': '4.5', 'reviewCount': '492'}\n",
      "16º - Centralidade de Proximidade: 0.3119774638400774 - Nome: Butcher and the Rye - Categorias: {'longitude': -80.002066, 'latitude': 40.442334, 'categories': '694,275,420,208,58,641,1', 'stars': '4.5', 'reviewCount': '809'}\n",
      "17º - Centralidade de Proximidade: 0.3104890513299568 - Nome: City Works - Pittsburgh - Categorias: {'longitude': -80.0032706, 'latitude': 40.4404255, 'categories': '420,100,612,604,1,58,341,275', 'stars': '3.0', 'reviewCount': '238'}\n",
      "18º - Centralidade de Proximidade: 0.3101499548680198 - Nome: The Milk Shake Factory - Categorias: {'longitude': -79.9999508, 'latitude': 40.4404289, 'categories': '641,653,838,575,262', 'stars': '4.5', 'reviewCount': '184'}\n",
      "19º - Centralidade de Proximidade: 0.3100268306302794 - Nome: Ki Ramen - Categorias: {'longitude': -79.9598728, 'latitude': 40.4716602, 'categories': '1,620,661,870,275,58', 'stars': '3.5', 'reviewCount': '168'}\n",
      "20º - Centralidade de Proximidade: 0.3099653051627997 - Nome: Millie's Homemade Ice Cream - Categorias: {'longitude': -79.9253581, 'latitude': 40.4578745, 'categories': '1,289,641,653', 'stars': '4.5', 'reviewCount': '310'}\n",
      "21º - Centralidade de Proximidade: 0.30965804375799916 - Nome: Primanti Bros - Categorias: {'longitude': -79.9855880737, 'latitude': 40.4507064819, 'categories': '289,1,618,341,275,501,58,420', 'stars': '3.5', 'reviewCount': '1234'}\n",
      "22º - Centralidade de Proximidade: 0.30922889976546186 - Nome: Church Brew Works - Categorias: {'longitude': -79.96445, 'latitude': 40.462118, 'categories': '275,1,58,201,604,575,641', 'stars': '3.5', 'reviewCount': '1023'}\n",
      "23º - Centralidade de Proximidade: 0.3081308291014693 - Nome: The Abbey on Butler Street - Categorias: {'longitude': -79.9584034, 'latitude': 40.4738128, 'categories': '275,420,362,641,1,58,173', 'stars': '3.5', 'reviewCount': '268'}\n",
      "24º - Centralidade de Proximidade: 0.3079182203480232 - Nome: The Urban Tap - Categorias: {'longitude': -79.9254572, 'latitude': 40.4583886, 'categories': '420,602,741,188,1,604,289', 'stars': '3.5', 'reviewCount': '131'}\n",
      "25º - Centralidade de Proximidade: 0.30785752886869966 - Nome: Proper Brick Oven & Tap Room - Categorias: {'longitude': -80.0003448, 'latitude': 40.4435995, 'categories': '405,641,696,58,1,82,275', 'stars': '4.5', 'reviewCount': '569'}\n",
      "26º - Centralidade de Proximidade: 0.3078271920999897 - Nome: Smoke BBQ Taqueria - Categorias: {'longitude': -79.9611342, 'latitude': 40.4700107, 'categories': '1,613,248,651,393', 'stars': '3.5', 'reviewCount': '405'}\n",
      "27º - Centralidade de Proximidade: 0.3076755978952719 - Nome: Muddy Waters Oyster Bar - Categorias: {'longitude': -79.925226, 'latitude': 40.4602070145, 'categories': '208,275,58,354,1,83', 'stars': '4.5', 'reviewCount': '385'}\n",
      "28º - Centralidade de Proximidade: 0.30710089907891225 - Nome: Primanti Bros - Categorias: {'longitude': -80.002585, 'latitude': 40.440287, 'categories': '289,275,58,1,341,306,420', 'stars': '3.5', 'reviewCount': '690'}\n",
      "29º - Centralidade de Proximidade: 0.30695001920317333 - Nome: Emporio: A Meatball Joint - Categorias: {'longitude': -79.9964184, 'latitude': 40.443966, 'categories': '58,405,641,275,575,420,116,1', 'stars': '4.0', 'reviewCount': '142'}\n",
      "30º - Centralidade de Proximidade: 0.3066186047733309 - Nome: Pittsburgh Poke - Categorias: {'longitude': -80.003478, 'latitude': 40.441237, 'categories': '370,844,870,641,1,550', 'stars': '4.5', 'reviewCount': '110'}\n",
      "31º - Centralidade de Proximidade: 0.30634797934987695 - Nome: Ten Penny - Categorias: {'longitude': -79.9956094, 'latitude': 40.4444316, 'categories': '1,420,604', 'stars': '3.0', 'reviewCount': '477'}\n",
      "32º - Centralidade de Proximidade: 0.3062879052290122 - Nome: The Porch at Schenley - Categorias: {'longitude': -79.953151, 'latitude': 40.442777, 'categories': '1,602,289,82,248,420', 'stars': '3.5', 'reviewCount': '585'}\n",
      "33º - Centralidade de Proximidade: 0.30518076840862596 - Nome: Casbah - Categorias: {'longitude': -79.9248403, 'latitude': 40.4581413, 'categories': '1,275,208,366,594,447,58,891,162', 'stars': '4.0', 'reviewCount': '381'}\n",
      "34º - Centralidade de Proximidade: 0.3051211511457995 - Nome: Redhawk Coffee - Categorias: {'longitude': -79.9586246, 'latitude': 40.4407077, 'categories': '1,162,344,173,575,641', 'stars': '5.0', 'reviewCount': '123'}\n",
      "35º - Centralidade de Proximidade: 0.30506155717096634 - Nome: Deluca's Diner - Categorias: {'longitude': -79.9837258, 'latitude': 40.4515431, 'categories': '162,594,604,1', 'stars': '4.0', 'reviewCount': '547'}\n",
      "36º - Centralidade de Proximidade: 0.3042296791420623 - Nome: Senyai Thai Kitchen - Categorias: {'longitude': -79.9288277, 'latitude': 40.4576253, 'categories': '1,620,631,370,83', 'stars': '4.5', 'reviewCount': '146'}\n",
      "37º - Centralidade de Proximidade: 0.30346127311353166 - Nome: Eleven - Categorias: {'longitude': -79.99315, 'latitude': 40.446156, 'categories': '1,420', 'stars': '4.0', 'reviewCount': '639'}\n",
      "38º - Centralidade de Proximidade: 0.3034317965449923 - Nome: P&G's Pamela's Diner - Categorias: {'longitude': -79.9836571, 'latitude': 40.4519715, 'categories': '289,162,1,594', 'stars': '4.5', 'reviewCount': '530'}\n",
      "39º - Centralidade de Proximidade: 0.3032844995563782 - Nome: Everyday Noodles - Categorias: {'longitude': -79.920082, 'latitude': 40.438262, 'categories': '631,620,791,1', 'stars': '4.0', 'reviewCount': '598'}\n",
      "40º - Centralidade de Proximidade: 0.3028434653834896 - Nome: Burgh'ers Brewing - Categorias: {'longitude': -79.965468, 'latitude': 40.465629, 'categories': '248,420,133,641,289,1,741,706,127,201', 'stars': '4.0', 'reviewCount': '145'}\n",
      "41º - Centralidade de Proximidade: 0.3025794600378434 - Nome: Sienna Mercato - Categorias: {'longitude': -79.9964366, 'latitude': 40.4439496, 'categories': '208,405,420,58,275,82,1', 'stars': '4.0', 'reviewCount': '752'}\n",
      "42º - Centralidade de Proximidade: 0.30214047252448933 - Nome: Umami - Categorias: {'longitude': -79.9642252, 'latitude': 40.4666498, 'categories': '1,550,58,870,275', 'stars': '4.0', 'reviewCount': '221'}\n",
      "43º - Centralidade de Proximidade: 0.30193604730627255 - Nome: Coca Cafe - Categorias: {'longitude': -79.9642028, 'latitude': 40.4672287, 'categories': '162,641,1,370,173,420', 'stars': '3.5', 'reviewCount': '474'}\n",
      "44º - Centralidade de Proximidade: 0.30187769089975797 - Nome: Mindful Brewing Company - Categorias: {'longitude': -80.0226204, 'latitude': 40.3641474, 'categories': '641,201,696', 'stars': '3.5', 'reviewCount': '201'}\n",
      "45º - Centralidade de Proximidade: 0.3017318985251324 - Nome: Grist House Craft Brewery - Categorias: {'longitude': -79.9724883, 'latitude': 40.4786987, 'categories': '201,641', 'stars': '4.5', 'reviewCount': '169'}\n",
      "46º - Centralidade de Proximidade: 0.30141165046610335 - Nome: Central Diner & Grille - Categorias: {'longitude': -80.1568110748, 'latitude': 40.4486993008, 'categories': '891,594,604,83,1', 'stars': '4.0', 'reviewCount': '489'}\n",
      "47º - Centralidade de Proximidade: 0.30097604253113935 - Nome: The Yard - Categorias: {'longitude': -80.0027028, 'latitude': 40.44144, 'categories': '420,58,1,188,275', 'stars': '3.5', 'reviewCount': '271'}\n",
      "48º - Centralidade de Proximidade: 0.3008021517025224 - Nome: Mount Everest Sushi - Categorias: {'longitude': -79.957276, 'latitude': 40.4415916, 'categories': '550,1,870,217,641,844,861', 'stars': '4.5', 'reviewCount': '166'}\n",
      "49º - Centralidade de Proximidade: 0.2995617899338987 - Nome: The Vandal - Categorias: {'longitude': -79.9599895, 'latitude': 40.4708089, 'categories': '1,420,366,362,275,818,162,173,49,248,58,289,641', 'stars': '4.0', 'reviewCount': '200'}\n",
      "50º - Centralidade de Proximidade: 0.2995043475964233 - Nome: B52 Cafe - Categorias: {'longitude': -79.9541429, 'latitude': 40.4804345, 'categories': '496,158,636,173,162,641,362,1', 'stars': '4.5', 'reviewCount': '198'}\n"
     ]
    }
   ],
   "source": [
    "graph = networkx.read_gml(\"GraphMissingEdges.gml\")\n",
    "\n",
    "node_closeness_centralities = sorted(networkx.closeness_centrality(graph).items(), key=lambda item: item[1], reverse=True)\n",
    "\n",
    "for index, (node_name, degree_centrality) in enumerate(node_closeness_centralities):\n",
    "    location_name = graph.nodes[node_name][\"name\"]\n",
    "    node_attrs = graph.nodes[node_name]\n",
    "    node_attrs.pop(\"name\")\n",
    "    print(f\"{index+1}º - Centralidade de Proximidade: {degree_centrality} - Nome: {location_name} - Categorias: {node_attrs}\")\n",
    "\n",
    "    # Mostra somente os 50 primeiros\n",
    "    if index == 49:\n",
    "        break"
   ],
   "metadata": {
    "collapsed": false
   }
  },
  {
   "cell_type": "markdown",
   "source": [
    "### d"
   ],
   "metadata": {
    "collapsed": false
   }
  },
  {
   "cell_type": "code",
   "execution_count": 15,
   "outputs": [
    {
     "name": "stdout",
     "output_type": "stream",
     "text": [
      "1º - Centralidade de Autovetor: 0.1745913469158427 - Nome: Gaucho Parrilla Argentina - Categorias: {'longitude': -79.987573, 'latitude': 40.449043, 'categories': '221,64,1,83', 'stars': '4.5', 'reviewCount': '1618'}\n",
      "2º - Centralidade de Autovetor: 0.17192912527237178 - Nome: täkō - Categorias: {'longitude': -80.0019846969, 'latitude': 40.4422285653, 'categories': '1,420,651', 'stars': '4.5', 'reviewCount': '1133'}\n",
      "3º - Centralidade de Autovetor: 0.16321391269248836 - Nome: Bakersfield - Categorias: {'longitude': -79.996632, 'latitude': 40.444065, 'categories': '58,275,393,208,420,83,651,1', 'stars': '4.5', 'reviewCount': '655'}\n",
      "4º - Centralidade de Autovetor: 0.16155641806000215 - Nome: Condado Tacos - Categorias: {'longitude': -79.9955165, 'latitude': 40.4438683, 'categories': '1,393,275,208,58,651', 'stars': '4.0', 'reviewCount': '510'}\n",
      "5º - Centralidade de Autovetor: 0.15879146745574096 - Nome: DiAnoia's Eatery - Categorias: {'longitude': -79.9786993, 'latitude': 40.454949, 'categories': '1,287,289,405', 'stars': '4.5', 'reviewCount': '433'}\n",
      "6º - Centralidade de Autovetor: 0.15565869537931024 - Nome: Meat & Potatoes - Categorias: {'longitude': -80.0011037908, 'latitude': 40.4431445863, 'categories': '428,641,262,490,420,1,188', 'stars': '4.0', 'reviewCount': '1755'}\n",
      "7º - Centralidade de Autovetor: 0.15546378640737943 - Nome: Smallman Galley - Categorias: {'longitude': -79.9837408, 'latitude': 40.4521777, 'categories': '275,604,420,173,1,58,641', 'stars': '4.5', 'reviewCount': '476'}\n",
      "8º - Centralidade de Autovetor: 0.14663349214873106 - Nome: Noodlehead - Categorias: {'longitude': -79.925494, 'latitude': 40.457748, 'categories': '370,1,620,641', 'stars': '4.5', 'reviewCount': '1096'}\n",
      "9º - Centralidade de Autovetor: 0.12542947196973336 - Nome: Piada Italian Street Food - Categorias: {'longitude': -79.957918, 'latitude': 40.440536, 'categories': '741,1,405,46', 'stars': '4.0', 'reviewCount': '193'}\n",
      "10º - Centralidade de Autovetor: 0.1192912671442721 - Nome: Pork & Beans - Categorias: {'longitude': -80.0024601607, 'latitude': 40.4430332883, 'categories': '604,1,208,612,58,275,437,706,133,641,289,613,330', 'stars': '4.0', 'reviewCount': '365'}\n",
      "11º - Centralidade de Autovetor: 0.11035581763170146 - Nome: Social House Seven - Categorias: {'longitude': -80.0003438, 'latitude': 40.4440719, 'categories': '1,861,791,870,550', 'stars': '3.5', 'reviewCount': '256'}\n",
      "12º - Centralidade de Autovetor: 0.10848286447864733 - Nome: Southern Tier Brewery Pittsburgh - Categorias: {'longitude': -80.0104128, 'latitude': 40.4463787, 'categories': '58,201,1,100,275,641,188', 'stars': '4.0', 'reviewCount': '231'}\n",
      "13º - Centralidade de Autovetor: 0.10817082266537294 - Nome: Altius - Categorias: {'longitude': -80.019299, 'latitude': 40.438556, 'categories': '133,641,1,275,5,58,420,575', 'stars': '4.5', 'reviewCount': '492'}\n",
      "14º - Centralidade de Autovetor: 0.10745907500514867 - Nome: Banh Mi & Ti - Categorias: {'longitude': -79.958936443, 'latitude': 40.4721452731, 'categories': '1,362,857,204,641', 'stars': '4.5', 'reviewCount': '219'}\n",
      "15º - Centralidade de Autovetor: 0.10127614973317448 - Nome: Pirata - Categorias: {'longitude': -80.0015466783, 'latitude': 40.4402384503, 'categories': '289,208,817,58,275,1', 'stars': '4.0', 'reviewCount': '214'}\n",
      "16º - Centralidade de Autovetor: 0.09220834765024204 - Nome: Millie's Homemade Ice Cream - Categorias: {'longitude': -79.9253581, 'latitude': 40.4578745, 'categories': '1,289,641,653', 'stars': '4.5', 'reviewCount': '310'}\n",
      "17º - Centralidade de Autovetor: 0.09088920008451841 - Nome: Butcher and the Rye - Categorias: {'longitude': -80.002066, 'latitude': 40.442334, 'categories': '694,275,420,208,58,641,1', 'stars': '4.5', 'reviewCount': '809'}\n",
      "18º - Centralidade de Autovetor: 0.08646468211566308 - Nome: Ki Ramen - Categorias: {'longitude': -79.9598728, 'latitude': 40.4716602, 'categories': '1,620,661,870,275,58', 'stars': '3.5', 'reviewCount': '168'}\n",
      "19º - Centralidade de Autovetor: 0.08511368377619087 - Nome: City Works - Pittsburgh - Categorias: {'longitude': -80.0032706, 'latitude': 40.4404255, 'categories': '420,100,612,604,1,58,341,275', 'stars': '3.0', 'reviewCount': '238'}\n",
      "20º - Centralidade de Autovetor: 0.08468124750948107 - Nome: Muddy Waters Oyster Bar - Categorias: {'longitude': -79.925226, 'latitude': 40.4602070145, 'categories': '208,275,58,354,1,83', 'stars': '4.5', 'reviewCount': '385'}\n",
      "21º - Centralidade de Autovetor: 0.0842228656821825 - Nome: The Milk Shake Factory - Categorias: {'longitude': -79.9999508, 'latitude': 40.4404289, 'categories': '641,653,838,575,262', 'stars': '4.5', 'reviewCount': '184'}\n",
      "22º - Centralidade de Autovetor: 0.083303864770927 - Nome: Emporio: A Meatball Joint - Categorias: {'longitude': -79.9964184, 'latitude': 40.443966, 'categories': '58,405,641,275,575,420,116,1', 'stars': '4.0', 'reviewCount': '142'}\n",
      "23º - Centralidade de Autovetor: 0.0821777309435114 - Nome: Primanti Bros - Categorias: {'longitude': -79.9855880737, 'latitude': 40.4507064819, 'categories': '289,1,618,341,275,501,58,420', 'stars': '3.5', 'reviewCount': '1234'}\n",
      "24º - Centralidade de Autovetor: 0.08210210169644247 - Nome: Church Brew Works - Categorias: {'longitude': -79.96445, 'latitude': 40.462118, 'categories': '275,1,58,201,604,575,641', 'stars': '3.5', 'reviewCount': '1023'}\n",
      "25º - Centralidade de Autovetor: 0.08132174985429654 - Nome: The Porch at Schenley - Categorias: {'longitude': -79.953151, 'latitude': 40.442777, 'categories': '1,602,289,82,248,420', 'stars': '3.5', 'reviewCount': '585'}\n",
      "26º - Centralidade de Autovetor: 0.08006951312358955 - Nome: Proper Brick Oven & Tap Room - Categorias: {'longitude': -80.0003448, 'latitude': 40.4435995, 'categories': '405,641,696,58,1,82,275', 'stars': '4.5', 'reviewCount': '569'}\n",
      "27º - Centralidade de Autovetor: 0.07897303394963501 - Nome: Ten Penny - Categorias: {'longitude': -79.9956094, 'latitude': 40.4444316, 'categories': '1,420,604', 'stars': '3.0', 'reviewCount': '477'}\n",
      "28º - Centralidade de Autovetor: 0.0786508400451518 - Nome: The Abbey on Butler Street - Categorias: {'longitude': -79.9584034, 'latitude': 40.4738128, 'categories': '275,420,362,641,1,58,173', 'stars': '3.5', 'reviewCount': '268'}\n",
      "29º - Centralidade de Autovetor: 0.07761895723570239 - Nome: Primanti Bros - Categorias: {'longitude': -80.002585, 'latitude': 40.440287, 'categories': '289,275,58,1,341,306,420', 'stars': '3.5', 'reviewCount': '690'}\n",
      "30º - Centralidade de Autovetor: 0.07752913354342097 - Nome: Eleven - Categorias: {'longitude': -79.99315, 'latitude': 40.446156, 'categories': '1,420', 'stars': '4.0', 'reviewCount': '639'}\n",
      "31º - Centralidade de Autovetor: 0.07718052010388175 - Nome: The Urban Tap - Categorias: {'longitude': -79.9254572, 'latitude': 40.4583886, 'categories': '420,602,741,188,1,604,289', 'stars': '3.5', 'reviewCount': '131'}\n",
      "32º - Centralidade de Autovetor: 0.07631487368663172 - Nome: Deluca's Diner - Categorias: {'longitude': -79.9837258, 'latitude': 40.4515431, 'categories': '162,594,604,1', 'stars': '4.0', 'reviewCount': '547'}\n",
      "33º - Centralidade de Autovetor: 0.07555113114448982 - Nome: Redhawk Coffee - Categorias: {'longitude': -79.9586246, 'latitude': 40.4407077, 'categories': '1,162,344,173,575,641', 'stars': '5.0', 'reviewCount': '123'}\n",
      "34º - Centralidade de Autovetor: 0.07453337914857296 - Nome: Senyai Thai Kitchen - Categorias: {'longitude': -79.9288277, 'latitude': 40.4576253, 'categories': '1,620,631,370,83', 'stars': '4.5', 'reviewCount': '146'}\n",
      "35º - Centralidade de Autovetor: 0.07420494237129947 - Nome: P&G's Pamela's Diner - Categorias: {'longitude': -79.9836571, 'latitude': 40.4519715, 'categories': '289,162,1,594', 'stars': '4.5', 'reviewCount': '530'}\n",
      "36º - Centralidade de Autovetor: 0.07326857832034872 - Nome: Smoke BBQ Taqueria - Categorias: {'longitude': -79.9611342, 'latitude': 40.4700107, 'categories': '1,613,248,651,393', 'stars': '3.5', 'reviewCount': '405'}\n",
      "37º - Centralidade de Autovetor: 0.07188845377483569 - Nome: Pittsburgh Poke - Categorias: {'longitude': -80.003478, 'latitude': 40.441237, 'categories': '370,844,870,641,1,550', 'stars': '4.5', 'reviewCount': '110'}\n",
      "38º - Centralidade de Autovetor: 0.07083189835107347 - Nome: Casbah - Categorias: {'longitude': -79.9248403, 'latitude': 40.4581413, 'categories': '1,275,208,366,594,447,58,891,162', 'stars': '4.0', 'reviewCount': '381'}\n",
      "39º - Centralidade de Autovetor: 0.06998811407560196 - Nome: Burgh'ers Brewing - Categorias: {'longitude': -79.965468, 'latitude': 40.465629, 'categories': '248,420,133,641,289,1,741,706,127,201', 'stars': '4.0', 'reviewCount': '145'}\n",
      "40º - Centralidade de Autovetor: 0.0695707759877576 - Nome: Sienna Mercato - Categorias: {'longitude': -79.9964366, 'latitude': 40.4439496, 'categories': '208,405,420,58,275,82,1', 'stars': '4.0', 'reviewCount': '752'}\n",
      "41º - Centralidade de Autovetor: 0.06882416299641818 - Nome: Umami - Categorias: {'longitude': -79.9642252, 'latitude': 40.4666498, 'categories': '1,550,58,870,275', 'stars': '4.0', 'reviewCount': '221'}\n",
      "42º - Centralidade de Autovetor: 0.06808499554020901 - Nome: Mount Everest Sushi - Categorias: {'longitude': -79.957276, 'latitude': 40.4415916, 'categories': '550,1,870,217,641,844,861', 'stars': '4.5', 'reviewCount': '166'}\n",
      "43º - Centralidade de Autovetor: 0.06658665981462877 - Nome: Grist House Craft Brewery - Categorias: {'longitude': -79.9724883, 'latitude': 40.4786987, 'categories': '201,641', 'stars': '4.5', 'reviewCount': '169'}\n",
      "44º - Centralidade de Autovetor: 0.06650757989554058 - Nome: Everyday Noodles - Categorias: {'longitude': -79.920082, 'latitude': 40.438262, 'categories': '631,620,791,1', 'stars': '4.0', 'reviewCount': '598'}\n",
      "45º - Centralidade de Autovetor: 0.06512045702647208 - Nome: Coca Cafe - Categorias: {'longitude': -79.9642028, 'latitude': 40.4672287, 'categories': '162,641,1,370,173,420', 'stars': '3.5', 'reviewCount': '474'}\n",
      "46º - Centralidade de Autovetor: 0.06359742719110045 - Nome: B52 Cafe - Categorias: {'longitude': -79.9541429, 'latitude': 40.4804345, 'categories': '496,158,636,173,162,641,362,1', 'stars': '4.5', 'reviewCount': '198'}\n",
      "47º - Centralidade de Autovetor: 0.06328916160492097 - Nome: Monterey Bay Fish Grotto - Categorias: {'longitude': -80.021242, 'latitude': 40.439059, 'categories': '208,366,58,83,275,1', 'stars': '4.0', 'reviewCount': '408'}\n",
      "48º - Centralidade de Autovetor: 0.06308848941343459 - Nome: Casellula - Categorias: {'longitude': -80.0073900819, 'latitude': 40.4553562403, 'categories': '366,420,275,612,1,58', 'stars': '4.0', 'reviewCount': '61'}\n",
      "49º - Centralidade de Autovetor: 0.06307959997721053 - Nome: Istanbul Sofra - Categorias: {'longitude': -79.897459209, 'latitude': 40.4395831126, 'categories': '891,447,79,1,158,189,641', 'stars': '4.5', 'reviewCount': '328'}\n",
      "50º - Centralidade de Autovetor: 0.062865840518498 - Nome: Morcilla - Categorias: {'longitude': -79.9661576054, 'latitude': 40.4645572158, 'categories': '562,1', 'stars': '4.5', 'reviewCount': '256'}\n"
     ]
    }
   ],
   "source": [
    "graph = networkx.read_gml(\"GraphMissingEdges.gml\")\n",
    "\n",
    "node_betweenness_centralities = sorted(networkx.eigenvector_centrality_numpy(graph).items(), key=lambda item: item[1], reverse=True)\n",
    "\n",
    "for index, (node_name, degree_centrality) in enumerate(node_betweenness_centralities):\n",
    "    location_name = graph.nodes[node_name][\"name\"]\n",
    "    node_attrs = graph.nodes[node_name]\n",
    "    node_attrs.pop(\"name\")\n",
    "    print(f\"{index+1}º - Centralidade de Autovetor: {degree_centrality} - Nome: {location_name} - Categorias: {node_attrs}\")\n",
    "\n",
    "    # Mostra somente os 50 primeiros\n",
    "    if index == 49:\n",
    "        break"
   ],
   "metadata": {
    "collapsed": false
   }
  },
  {
   "cell_type": "markdown",
   "source": [
    "### e"
   ],
   "metadata": {
    "collapsed": false
   }
  },
  {
   "cell_type": "markdown",
   "source": [
    "É um resultado esperado. O primeiro lugar é o mesmo nó em todas as medidas de centralidade, o que indica que, independente do tipo, ele é importante na rede. A diferença entre as centralidades se dá pelo fato de que as medidas tem conceitos diferentes, como as arestas são representadas pela relação de estabelecimentos que tiveram pessoas em comum que a visitaram, a intermediação, o grau e a proximidade pode mudar, já que em alguns pontos um estabelecimento pode ser importante para conectar outros através da pessoa que o visitou, influenciando que outras pessoas o conheçam e já tenham passado em outros lugares assim os conectando e também podemos ter estabelecimentos mais bem posicionados já que não teve tantas visitas, mas tem uma proximidade forte com os outros por motivos como pessoas conhecidas visitarem eles ligando esses estabelecimentos por conta das relações das pessoas."
   ],
   "metadata": {
    "collapsed": false
   }
  },
  {
   "cell_type": "markdown",
   "source": [
    "## Questão 2"
   ],
   "metadata": {
    "collapsed": false
   }
  },
  {
   "cell_type": "code",
   "execution_count": 16,
   "outputs": [],
   "source": [
    "import networkx\n",
    "\n",
    "graph = networkx.Graph()\n",
    "graph.add_edges_from([(\"a\", \"b\"), (\"a\", \"c\"), (\"b\", \"c\"), (\"a\", \"a\"), (\"b\", \"a\"), (\"c\", \"b\"), (\"a\", \"c\")])\n"
   ],
   "metadata": {
    "collapsed": false
   }
  },
  {
   "cell_type": "markdown",
   "source": [
    "### a"
   ],
   "metadata": {
    "collapsed": false
   }
  },
  {
   "cell_type": "code",
   "execution_count": 17,
   "outputs": [
    {
     "name": "stdout",
     "output_type": "stream",
     "text": [
      "{'a': 0.3333333333333333, 'b': 0.3333333333333333, 'c': 0.3333333333333333}\n",
      "{'a': 0.38461536744112934, 'b': 0.3076923162794353, 'c': 0.3076923162794353}\n",
      "{'a': 0.41605848889566305, 'b': 0.2919707555521684, 'c': 0.2919707555521684}\n",
      "{'a': 0.4202900036458333, 'b': 0.2898549981770833, 'c': 0.2898549981770833}\n",
      "{'a': 0.42857137186912553, 'b': 0.2857143140654371, 'c': 0.2857143140654371}\n"
     ]
    }
   ],
   "source": [
    "rank = networkx.pagerank(graph, alpha=0)\n",
    "print(rank)\n",
    "\n",
    "rank = networkx.pagerank(graph, alpha=0.5)\n",
    "print(rank)\n",
    "\n",
    "rank = networkx.pagerank(graph)\n",
    "print(rank)\n",
    "\n",
    "rank = networkx.pagerank(graph, alpha=0.9)\n",
    "print(rank)\n",
    "\n",
    "rank = networkx.pagerank(graph, alpha=1)\n",
    "print(rank)"
   ],
   "metadata": {
    "collapsed": false
   }
  },
  {
   "cell_type": "markdown",
   "source": [
    "A medida que o parâmetro de amortecimento aumenta, a probabilidade do surfista ir para uma página aleatória também aumenta"
   ],
   "metadata": {
    "collapsed": false
   }
  },
  {
   "cell_type": "markdown",
   "source": [
    "### b"
   ],
   "metadata": {
    "collapsed": false
   }
  },
  {
   "cell_type": "markdown",
   "source": [
    "Quando o parâmetro de amortecimento e 0 todos os nós terão o mesmo grau, pois a rede não terá nenhum peso como é possível ver abaixo."
   ],
   "metadata": {
    "collapsed": false
   }
  },
  {
   "cell_type": "code",
   "execution_count": 18,
   "outputs": [
    {
     "name": "stdout",
     "output_type": "stream",
     "text": [
      "{'a': 0.3333333333333333, 'b': 0.3333333333333333, 'c': 0.3333333333333333}\n"
     ]
    }
   ],
   "source": [
    "rank = networkx.pagerank(graph, alpha=0)\n",
    "print(rank)"
   ],
   "metadata": {
    "collapsed": false
   }
  },
  {
   "cell_type": "markdown",
   "source": [
    "### Questão 3"
   ],
   "metadata": {
    "collapsed": false
   }
  },
  {
   "cell_type": "markdown",
   "source": [
    "Hubs são nós de uma rede que recebem muitos links de saída tornando ele importante, pois conecta vários nós da rede, um exemplo de Hub são aeroportos que concentram a saída de vários voos para seus destinos.\n",
    "Já os Authorities são o oposto de Hubs, são nós que tem muitos links de entrada, tornando eles importantes por ser onde a rede concentra um \"destino final\"."
   ],
   "metadata": {
    "collapsed": false
   }
  },
  {
   "cell_type": "code",
   "execution_count": 18,
   "outputs": [],
   "source": [],
   "metadata": {
    "collapsed": false
   }
  }
 ],
 "metadata": {
  "kernelspec": {
   "display_name": "Python 3",
   "language": "python",
   "name": "python3"
  },
  "language_info": {
   "codemirror_mode": {
    "name": "ipython",
    "version": 2
   },
   "file_extension": ".py",
   "mimetype": "text/x-python",
   "name": "python",
   "nbconvert_exporter": "python",
   "pygments_lexer": "ipython2",
   "version": "2.7.6"
  }
 },
 "nbformat": 4,
 "nbformat_minor": 0
}
