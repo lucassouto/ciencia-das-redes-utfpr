{
 "cells": [
  {
   "cell_type": "code",
   "execution_count": 72,
   "outputs": [],
   "source": [
    "from functools import cached_property\n",
    "\n",
    "import networkx as nx\n",
    "import numpy as np\n",
    "import pandas as pd\n",
    "import torch\n",
    "import torch.nn as nn\n",
    "import torch.optim as optim\n",
    "from networkx.classes.graph import NodeView\n",
    "from geopy.distance import geodesic\n",
    "from sklearn.metrics import accuracy_score\n",
    "from sklearn.model_selection import train_test_split\n",
    "from torch.utils.data import Dataset\n",
    "from tqdm import trange"
   ],
   "metadata": {
    "collapsed": false,
    "ExecuteTime": {
     "start_time": "2023-05-12T12:54:09.642547Z",
     "end_time": "2023-05-12T12:54:09.657073Z"
    }
   }
  },
  {
   "cell_type": "markdown",
   "source": [
    "## Carrega rede"
   ],
   "metadata": {
    "collapsed": false
   }
  },
  {
   "cell_type": "code",
   "execution_count": 73,
   "outputs": [],
   "source": [
    "graph = nx.read_gml(\"data/GraphMissingEdges.gml\")"
   ],
   "metadata": {
    "collapsed": false,
    "ExecuteTime": {
     "start_time": "2023-05-12T12:54:10.540186Z",
     "end_time": "2023-05-12T12:54:11.952070Z"
    }
   }
  },
  {
   "cell_type": "markdown",
   "source": [
    "## Funções complementares"
   ],
   "metadata": {
    "collapsed": false
   }
  },
  {
   "cell_type": "code",
   "execution_count": 74,
   "outputs": [],
   "source": [
    "def extract_features(node1, node2, label):\n",
    "    def _build_distance_feature(node1_attrs: dict, node2_attrs: dict) -> np.ndarray:\n",
    "        lon1, lat1 = float(node1_attrs[\"longitude\"]), float(node1_attrs[\"latitude\"])\n",
    "        lon2, lat2 = float(node2_attrs[\"longitude\"]), float(node2_attrs[\"latitude\"])\n",
    "        coords1, coords2 = (lat1, lon1), (lat2, lon2)\n",
    "        distance = float(f\"{geodesic(coords1, coords2).kilometers:.2f}\")\n",
    "        return np.array([distance])\n",
    "\n",
    "    def _build_category_features(node1: NodeView, node2: NodeView) -> np.ndarray:\n",
    "        def _build_categories(node: NodeView) -> list[int]:\n",
    "            return [\n",
    "                int(c) if c else 0 for c in graph.nodes[node][\"categories\"].split(\",\")\n",
    "            ]\n",
    "\n",
    "        node1_categories = set(_build_categories(node1))\n",
    "        node2_categories = set(_build_categories(node2))\n",
    "\n",
    "        intersection = [float(len(node1_categories.intersection(node2_categories)))]\n",
    "        union = [float(len(node1_categories.union(node2_categories)))]\n",
    "\n",
    "        return np.concatenate([np.array(intersection), np.array(union)])\n",
    "\n",
    "    def _build_feature(attr: str, node1_attrs: dict, node2_attrs: dict) -> np.ndarray:\n",
    "        return np.concatenate(\n",
    "            [np.array([float(node1_attrs[attr])]), np.array([float(node2_attrs[attr])])]\n",
    "        )\n",
    "\n",
    "    def _build_edge_weight_feature(\n",
    "        label: int, node1: NodeView, node2: NodeView\n",
    "    ) -> np.ndarray:\n",
    "        edge_weight = graph[node1][node2][\"weight\"] if label else 0\n",
    "        if edge_weight >= 4:\n",
    "            return np.array([1])\n",
    "        return np.array([0])\n",
    "\n",
    "    node1_attrs = graph.nodes()[node1]\n",
    "    node2_attrs = graph.nodes()[node2]\n",
    "    return np.concatenate(\n",
    "        [\n",
    "            _build_distance_feature(node1_attrs=node1_attrs, node2_attrs=node2_attrs),\n",
    "            _build_category_features(node1=node1, node2=node2),\n",
    "            _build_feature(\n",
    "                attr=\"stars\", node1_attrs=node1_attrs, node2_attrs=node2_attrs\n",
    "            ),\n",
    "            _build_feature(\n",
    "                attr=\"reviewCount\", node1_attrs=node1_attrs, node2_attrs=node2_attrs\n",
    "            ),\n",
    "            _build_edge_weight_feature(label=label, node1=node1, node2=node2),\n",
    "        ]\n",
    "    )"
   ],
   "metadata": {
    "collapsed": false,
    "ExecuteTime": {
     "start_time": "2023-05-12T12:54:12.451897Z",
     "end_time": "2023-05-12T12:54:12.462863Z"
    }
   }
  },
  {
   "cell_type": "markdown",
   "source": [
    "## Definição do dataset"
   ],
   "metadata": {
    "collapsed": false
   }
  },
  {
   "cell_type": "code",
   "execution_count": 75,
   "outputs": [],
   "source": [
    "class LinkPredictionDataset(Dataset):\n",
    "    def __init__(self, graph):\n",
    "        self.graph = graph\n",
    "        self.edges = list(graph.edges())\n",
    "\n",
    "    def __len__(self):\n",
    "        return len(self.edges) * 2\n",
    "\n",
    "    def __getitem__(self, idx):\n",
    "        if idx < len(self.edges):\n",
    "            node1, node2 = self.edges[idx]\n",
    "            label = int(self.graph.has_edge(node1, node2))\n",
    "        else:\n",
    "            node1, node2 = self.random_node, self.random_node\n",
    "            while self.graph.has_edge(node1, node2):\n",
    "                node1, node2 = self.random_node, self.random_node\n",
    "            label = 0\n",
    "\n",
    "        features = extract_features(node1=node1, node2=node2, label=label)\n",
    "        return features, label\n",
    "\n",
    "    @cached_property\n",
    "    def nodes_numpy(self) -> np.ndarray:\n",
    "        return np.array(list(self.graph.nodes()))\n",
    "\n",
    "    @property\n",
    "    def random_node(self) -> str:\n",
    "        return np.random.choice(self.nodes_numpy)"
   ],
   "metadata": {
    "collapsed": false,
    "ExecuteTime": {
     "start_time": "2023-05-12T12:54:13.611170Z",
     "end_time": "2023-05-12T12:54:13.624850Z"
    }
   }
  },
  {
   "cell_type": "markdown",
   "source": [
    "## Definição do modelo de predição"
   ],
   "metadata": {
    "collapsed": false
   }
  },
  {
   "cell_type": "code",
   "execution_count": 76,
   "outputs": [],
   "source": [
    "class LinkPredictionModel(nn.Module):\n",
    "    def __init__(self, input_size, hidden_size):\n",
    "        super().__init__()\n",
    "        self.relu = nn.ReLU()\n",
    "        self.sigmoid = nn.Sigmoid()\n",
    "\n",
    "        self.fc1 = nn.Linear(input_size, hidden_size)\n",
    "        self.fc2 = nn.Linear(hidden_size, hidden_size)\n",
    "        self.fc3 = nn.Linear(hidden_size, hidden_size)\n",
    "        self.fc4 = nn.Linear(hidden_size, 1)\n",
    "\n",
    "    def forward(self, x):\n",
    "        x = self.relu(self.fc1(x))\n",
    "        x = self.relu(self.fc2(x))\n",
    "        x = self.relu(self.fc3(x))\n",
    "        x = self.fc4(x)\n",
    "        return self.sigmoid(x)"
   ],
   "metadata": {
    "collapsed": false,
    "ExecuteTime": {
     "start_time": "2023-05-12T12:54:15.044174Z",
     "end_time": "2023-05-12T12:54:15.050038Z"
    }
   }
  },
  {
   "cell_type": "markdown",
   "source": [
    "## Inicializar modelo\n"
   ],
   "metadata": {
    "collapsed": false
   }
  },
  {
   "cell_type": "code",
   "execution_count": 77,
   "outputs": [],
   "source": [
    "# Definição dos hiperparametros\n",
    "input_size = 8\n",
    "hidden_size = 32\n",
    "learning_rate = 0.001\n",
    "num_epochs = 1000\n",
    "\n",
    "model = LinkPredictionModel(input_size, hidden_size)\n",
    "\n",
    "criterion = nn.BCELoss()\n",
    "optimizer = optim.RMSprop(model.parameters(), lr=learning_rate)"
   ],
   "metadata": {
    "collapsed": false,
    "ExecuteTime": {
     "start_time": "2023-05-12T12:54:16.451074Z",
     "end_time": "2023-05-12T12:54:16.474002Z"
    }
   }
  },
  {
   "cell_type": "markdown",
   "source": [
    "## Testar acurácia do modelo"
   ],
   "metadata": {
    "collapsed": false
   }
  },
  {
   "cell_type": "code",
   "execution_count": 78,
   "outputs": [
    {
     "name": "stderr",
     "output_type": "stream",
     "text": [
      "Epoch [1000/1000], Loss: 0.3998: 100%|██████████| 1000/1000 [00:09<00:00, 105.97it/s]\n"
     ]
    },
    {
     "name": "stdout",
     "output_type": "stream",
     "text": [
      "Acurácia: 0.8230880610767408\n"
     ]
    }
   ],
   "source": [
    "X = []  # Lista para armazenar as features\n",
    "y = []  # Lista para armazenar as labels\n",
    "\n",
    "dataset = LinkPredictionDataset(graph)\n",
    "for idx in range(len(dataset)):\n",
    "    features, label = dataset[idx]\n",
    "    X.append(features)\n",
    "    y.append(label)\n",
    "\n",
    "features_train, features_test, labels_train, labels_test = train_test_split(\n",
    "    X, y, test_size=0.2, random_state=42\n",
    ")\n",
    "\n",
    "# Converter os conjuntos de treinamento e teste em tensores\n",
    "features_train_tensor = torch.Tensor(features_train)\n",
    "labels_train_tensor = torch.FloatTensor(labels_train)\n",
    "\n",
    "features_test_tensor = torch.Tensor(features_test)\n",
    "labels_test_tensor = torch.FloatTensor(labels_test)\n",
    "\n",
    "t = trange(num_epochs, leave=True)\n",
    "# Loop de treinamento\n",
    "for epoch in t:\n",
    "    # Forward pass\n",
    "    outputs = model(features_train_tensor)\n",
    "\n",
    "    # Calcular a perda\n",
    "    loss = criterion(outputs.squeeze(), labels_train_tensor)\n",
    "\n",
    "    # Backward pass e otimização\n",
    "    optimizer.zero_grad()\n",
    "    loss.backward()\n",
    "    optimizer.step()\n",
    "\n",
    "    t.set_description(desc=f\"Epoch [{epoch + 1}/{num_epochs}], Loss: {loss.item():.4f}\")\n",
    "\n",
    "# Avaliação da acurácia nos dados de teste\n",
    "with torch.no_grad():\n",
    "    outputs = model(features_test_tensor)\n",
    "    predicted_labels = outputs.round().squeeze().detach().numpy()\n",
    "\n",
    "accuracy = accuracy_score(labels_test, predicted_labels)\n",
    "print(f\"Acurácia: {accuracy}\")"
   ],
   "metadata": {
    "collapsed": false,
    "ExecuteTime": {
     "start_time": "2023-05-12T12:54:17.752795Z",
     "end_time": "2023-05-12T12:54:30.372900Z"
    }
   }
  },
  {
   "cell_type": "markdown",
   "source": [
    "## Carregamento do dataset a ser avaliado"
   ],
   "metadata": {
    "collapsed": false
   }
  },
  {
   "cell_type": "code",
   "execution_count": 79,
   "outputs": [],
   "source": [
    "edges_to_evaluate = pd.read_csv(\"data/edgesToEvaluate.csv\")"
   ],
   "metadata": {
    "collapsed": false,
    "ExecuteTime": {
     "start_time": "2023-05-12T12:54:32.995884Z",
     "end_time": "2023-05-12T12:54:33.002583Z"
    }
   }
  },
  {
   "cell_type": "markdown",
   "source": [
    "## Predição"
   ],
   "metadata": {
    "collapsed": false
   }
  },
  {
   "cell_type": "code",
   "execution_count": 80,
   "outputs": [
    {
     "name": "stdout",
     "output_type": "stream",
     "text": [
      "[0.9874107  0.6181429  0.9746782  0.61966985 0.06629679 0.984844\n",
      " 0.36490288 0.97806346 0.17099808 0.16915114 0.9899166  0.7645481\n",
      " 0.04866929 0.32022107 0.38143677 0.7599189  0.4146239  0.06229569\n",
      " 0.07674591 0.04104792 0.984814   0.98470944 0.6712623  0.9609078\n",
      " 0.7631246  0.05218807 0.34813616 0.7058132  0.7450561  0.9991074\n",
      " 0.8721216  0.91363555 0.12207973 0.98179173 0.03050127 0.90042627\n",
      " 0.9921124  0.62511253 0.09017267 0.80409163 0.08857162 0.16705869\n",
      " 0.913858   0.9143726  0.23212096 0.2719546  0.10080393 0.04132877\n",
      " 0.29090163 0.92222387 0.3676265  0.06104619 0.94534415 0.97010595\n",
      " 0.77164936 0.16733882 0.7910885  0.13733433 0.13744931 0.10616941\n",
      " 0.8822416  0.3988203  0.9106541  0.88013244 0.07554998 0.9004024\n",
      " 0.8947046  0.4384843  0.995169   0.11647782 0.05748113 0.24233992\n",
      " 0.13659549 0.01865614 0.9971296  0.7088828  0.99976486 0.8506812\n",
      " 0.14838369 0.4824343  0.6327867  0.03690485 0.97230035 0.4936516\n",
      " 0.0236379  0.9834937  0.95413184 0.83994615 1.         0.25002974\n",
      " 0.07460538 0.29501206 0.16630574 0.9873303  0.97513777 0.15689963\n",
      " 0.43025035 0.87260216 0.13824399 0.9437878  0.17664848 0.09583976\n",
      " 0.14833923 0.7682659  0.0669307  0.9554668  0.814      0.05570856\n",
      " 0.6227581  0.02342384 0.117475   0.18567584 0.5320325  0.36481765\n",
      " 0.64990234 0.17940342 0.9964168  0.03360878 0.18773323 0.9862308\n",
      " 0.8806071  0.9980494  0.93307143 0.14528188 0.04890898 0.9935933\n",
      " 0.34836677 0.9081541  0.480055   0.20155525 0.31340346 0.9289541\n",
      " 0.05551243 0.97624755 0.3174838  0.9405785  0.0990496  0.50669265\n",
      " 0.9524889  0.97600687 0.91341156 0.99649113 0.93123627 0.4070762\n",
      " 0.9521073  0.15063295 0.12962797 0.24088782 0.969048   0.1114391\n",
      " 0.12173199 0.1295448  0.9008304  0.17389081 0.43895045 0.50089055\n",
      " 0.48364478 0.9940952  0.9529317  0.9819198  0.72309524 0.7503262\n",
      " 0.85717976 0.02415386 0.043913   0.7449559  0.26789874 0.9413331\n",
      " 0.91182196 0.06114743 0.10559858 0.9873865  0.0902347  0.04700491\n",
      " 0.12338156 0.9106817  0.27064842 0.97576445 0.93861103 0.03873939\n",
      " 0.18851131 0.54684645 0.40079764 0.999747   0.02495598 0.10135906\n",
      " 0.21082479 0.0602358  0.4638348  0.30361044 0.5983963  0.9984629\n",
      " 0.770307   0.6252215  0.8583794  0.23354918 0.06716441 0.8050017\n",
      " 0.9992084  0.25937232 0.43053368 0.6967959  0.89663416 0.87641346\n",
      " 0.31168428 0.89653295 0.7506463  0.02865955 0.64382035 0.93578625\n",
      " 0.9999312  0.91356385 0.875324   0.02156788 0.35048357 0.99975437\n",
      " 0.07348305 0.90597945 0.11414091 0.9477517  0.23096932 0.12637956\n",
      " 0.09229806 0.22080775 0.85926217 0.995921   0.04657014 0.11019979\n",
      " 0.33201894 0.39565346 0.03248504 0.4071128  0.1046041  0.7777449\n",
      " 0.79020584 0.6385767  0.8445313  0.83983827 0.93601    0.11494698\n",
      " 0.8662771  0.58386743 0.80781126 0.03066039 0.2339043  0.68789905\n",
      " 0.60081947 0.18143632 0.18981567 0.02993162 0.12890418 0.764853\n",
      " 0.13279508 0.14014462 0.43399358 0.8257632  0.7168089  0.9966947\n",
      " 0.04904313 0.05104675 0.06036408 0.3764695  0.04180252 0.90358573\n",
      " 0.6972627  0.11679148 0.4917379  0.38056394 0.9811081  0.7967514\n",
      " 0.9969362  0.9976497  0.63205516 0.16488133 0.13889067 0.62831885\n",
      " 0.07155962 0.81838083 0.14591904 0.14763714 0.95289034 0.29005942\n",
      " 0.36199364 0.9904265  0.19175865 0.25734726 0.07675017 0.13567682\n",
      " 0.97784024 0.07647245 0.98621655 0.41906214 0.8796783  0.04312395\n",
      " 0.26269716 0.96690357 0.05386266 0.47353008 0.15959637 0.48977605\n",
      " 0.9360451  0.15205428 0.87212956 0.9208561  0.04059711 0.07284567\n",
      " 0.54593176 0.24404797 0.7787908  0.34718153 0.9485516  0.42018786\n",
      " 0.7969153  0.49125826 0.12470739 0.02370594 0.26275215 0.40451437\n",
      " 0.9835797  0.625521   0.15456219 0.72931135 0.9956589  0.99437755\n",
      " 0.9634937  0.9947843  0.39412537 0.17943941 0.9574726  0.6073564\n",
      " 0.44180667 0.06555889 0.10403423 0.9892552  0.3684824  0.91902566\n",
      " 0.7312856  0.3441521  0.98487073 0.2630359  0.3995236  0.24719927\n",
      " 0.932923   0.98460186 0.5984427  0.29833418 0.9278822  0.37090015\n",
      " 0.20773855 0.04283597 0.15188815 0.99110353 0.07907599 0.24966143\n",
      " 0.88767654 0.811845   0.34831235 0.9527244  0.05248148 0.42825913\n",
      " 0.09351471 0.91112256 0.990166   0.76435804 0.96386003 0.6304701\n",
      " 0.69306344 0.55686337 0.7785908  0.45160574 0.9269276  0.06965228\n",
      " 0.97043747 0.72455615 0.94017816 0.38836586 0.1249195  0.9767517\n",
      " 0.19187985 0.10854049 0.75006443 0.36459506 0.9931913  0.5458492\n",
      " 0.9984364  0.53920346 0.9965863  0.97438455 0.5450777  0.7046748\n",
      " 0.88198364 0.05123695 0.94246143 0.29624945 0.2195928  0.47428098\n",
      " 0.05330136 0.86554664 0.9984295  0.86827797 0.997815   0.18992364\n",
      " 0.05582699 0.89848423 0.8631839  0.35172164 0.54404944 0.19876926\n",
      " 0.21382101 0.17117634 0.99606484 0.29847717 0.5901139  0.99810225\n",
      " 0.78726757 0.9733434  0.15870069 0.6881057  0.01527877 0.87085235\n",
      " 0.3573333  0.9020747  0.22523353 0.9667055  0.8816954  0.98805815\n",
      " 0.7325138  0.06073692 0.99717593 0.8726874  0.9896011  0.12571152\n",
      " 0.8249484  0.807632   0.09190306 0.7779117  0.07004413 0.7166951\n",
      " 0.11484785 0.9929115  0.9881749  0.670748   0.04869668 0.23948076\n",
      " 0.7571288  0.96469235 0.27264735 0.9635941  0.24210307 0.7535131\n",
      " 0.7682759  0.02058985 0.31567904 0.3815508  0.53213114 0.96485305\n",
      " 0.16441314 0.9788867  0.9457452  0.314184   0.16081892 0.05576695\n",
      " 0.99766123 0.8267952  0.12980956 0.99081236 0.9999943  0.9948138\n",
      " 0.98103434 0.9793865  0.7309667  0.8793209  0.24736032 0.28754854\n",
      " 0.7823128  0.6291667  0.0874861  0.68216145 0.9922829  0.26750317\n",
      " 0.9174372  0.23089898 0.06628685 0.9954776  0.36441827 0.99368036\n",
      " 0.8982643  0.20673515 0.22789289 0.83479893 0.8721445  0.831541\n",
      " 0.11295649 0.2937845  0.02216163 0.9391731  0.02632758 0.1199089\n",
      " 0.37431833 0.32274213]\n"
     ]
    }
   ],
   "source": [
    "link_ids = []\n",
    "with torch.no_grad():\n",
    "    all_features = []\n",
    "    for _, row in edges_to_evaluate.iterrows():\n",
    "        link_ids.append(row[\"linkID\"])\n",
    "        node1 = row[\"venue1\"]\n",
    "        node2 = row[\"venue2\"]\n",
    "\n",
    "        features = extract_features(node1, node2, 0)\n",
    "        all_features.append(features)\n",
    "\n",
    "    all_features = torch.FloatTensor(all_features)\n",
    "    predictions = model(all_features).squeeze().numpy()\n",
    "\n",
    "print(predictions)"
   ],
   "metadata": {
    "collapsed": false,
    "ExecuteTime": {
     "start_time": "2023-05-12T12:54:33.927385Z",
     "end_time": "2023-05-12T12:54:34.007010Z"
    }
   }
  },
  {
   "cell_type": "markdown",
   "source": [
    "## Escrita das predições no CSV"
   ],
   "metadata": {
    "collapsed": false
   }
  },
  {
   "cell_type": "code",
   "execution_count": 58,
   "outputs": [],
   "source": [
    "predicted_links = []\n",
    "for pred in np.round(predictions):\n",
    "    predicted_links.append(int(pred))\n",
    "\n",
    "results = pd.DataFrame({\"linkID\": link_ids, \"link\": predicted_links})\n",
    "results.to_csv(\"resultados.csv\", index=False)"
   ],
   "metadata": {
    "collapsed": false,
    "ExecuteTime": {
     "start_time": "2023-05-12T12:29:25.517440Z",
     "end_time": "2023-05-12T12:29:25.599952Z"
    }
   }
  }
 ],
 "metadata": {
  "kernelspec": {
   "display_name": "Python 3",
   "language": "python",
   "name": "python3"
  },
  "language_info": {
   "codemirror_mode": {
    "name": "ipython",
    "version": 2
   },
   "file_extension": ".py",
   "mimetype": "text/x-python",
   "name": "python",
   "nbconvert_exporter": "python",
   "pygments_lexer": "ipython2",
   "version": "2.7.6"
  }
 },
 "nbformat": 4,
 "nbformat_minor": 0
}
